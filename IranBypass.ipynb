{
 "cells": [
  {
   "cell_type": "code",
   "execution_count": null,
   "id": "f678b660",
   "metadata": {},
   "outputs": [],
   "source": [
    "import os\n",
    "import shutil\n",
    "import uuid\n",
    "from google.colab import files\n",
    "import zipfile"
   ]
  },
  {
   "cell_type": "code",
   "execution_count": null,
   "id": "7881bf71",
   "metadata": {},
   "outputs": [],
   "source": [
    "# Step 1: Uninstall the conflicting pathlib package\n",
    "!pip uninstall -y pathlib"
   ]
  },
  {
   "cell_type": "code",
   "execution_count": null,
   "id": "001a5067",
   "metadata": {
    "lines_to_next_cell": 1
   },
   "outputs": [],
   "source": [
    "# Step 2: Install necessary libraries\n",
    "!pip install pyinstaller"
   ]
  },
  {
   "cell_type": "code",
   "execution_count": null,
   "id": "5f85f5da",
   "metadata": {
    "lines_to_next_cell": 1
   },
   "outputs": [],
   "source": [
    "# Function to clear the directory of all files\n",
    "def clear_directory(path='.'):\n",
    "    for root, dirs, files in os.walk(path, topdown=False):\n",
    "        for name in files:\n",
    "            os.remove(os.path.join(root, name))\n",
    "        for name in dirs:\n",
    "            shutil.rmtree(os.path.join(root, name))"
   ]
  },
  {
   "cell_type": "code",
   "execution_count": null,
   "id": "e577547e",
   "metadata": {
    "lines_to_next_cell": 1
   },
   "outputs": [],
   "source": [
    "clear_directory()"
   ]
  },
  {
   "cell_type": "code",
   "execution_count": null,
   "id": "6ab8ac72",
   "metadata": {
    "lines_to_next_cell": 1
   },
   "outputs": [],
   "source": [
    "# Define the generate_new_uuid function\n",
    "def generate_new_uuid():\n",
    "    new_uuid = str(uuid.uuid4())\n",
    "    print(f\"UUID Generator Output: {new_uuid}\")\n",
    "    return new_uuid"
   ]
  },
  {
   "cell_type": "code",
   "execution_count": null,
   "id": "152f4fa8",
   "metadata": {
    "lines_to_next_cell": 1
   },
   "outputs": [],
   "source": [
    "# Function to replace UUID in the template content\n",
    "def replace_uuid_in_file(template_content, new_uuid):\n",
    "    return template_content.replace('aa9c5023-3f0e-4d0f-904b-5fbc5da0c9bd', new_uuid.strip())"
   ]
  },
  {
   "cell_type": "code",
   "execution_count": null,
   "id": "8f482c7f",
   "metadata": {},
   "outputs": [],
   "source": [
    "# Create the configuration file content\n",
    "template_content = '''\n",
    "<?xml version=\"1.0\" encoding=\"UTF-8\"?> \n",
    "<!DOCTYPE plist PUBLIC \"-//Apple//DTD PLIST 1.0//EN\" \"http://www.apple.com/DTDs/PropertyList-1.0.dtd\">\n",
    "<plist version=\"1.0\">\n",
    "<dict>\n",
    "    <key>ConsentText</key>\n",
    "    <dict>\n",
    "        <key>default</key>\n",
    "        <string>برگشت آنتن</string>\n",
    "    </dict>\n",
    "    <key>DDNAProfileProperties</key>\n",
    "    <dict>\n",
    "        <key>IsNewProfile</key>\n",
    "        <true/>\n",
    "        <key>PayloadType</key>\n",
    "        <string></string>\n",
    "        <key>PlatformFilters</key>\n",
    "        <array>\n",
    "            <string>ios</string>\n",
    "        </array>\n",
    "    </dict>\n",
    "    <key>PayloadContent</key>\n",
    "    <array>\n",
    "        <dict>\n",
    "            <key>APNs</key>\n",
    "            <array>\n",
    "                <dict>\n",
    "                    <key>AllowedProtocolMask</key>\n",
    "                    <integer>1</integer>\n",
    "                    <key>AllowedProtocolMaskInDomesticRoaming</key>\n",
    "                    <integer>1</integer>\n",
    "                    <key>AllowedProtocolMaskInRoaming</key>\n",
    "                    <integer>1</integer>\n",
    "                    <key>AuthenticationType</key>\n",
    "                    <string>CHAP</string>\n",
    "                    <key>DefaultProtocolMask</key>\n",
    "                    <integer>1</integer>\n",
    "                    <key>EnableXLAT464</key>\n",
    "                    <true/>\n",
    "                    <key>Name</key>\n",
    "                    <string>mcinet</string>\n",
    "                </dict>\n",
    "                <dict>\n",
    "                    <key>AllowedProtocolMask</key>\n",
    "                    <integer>1</integer>\n",
    "                    <key>AllowedProtocolMaskInDomesticRoaming</key>\n",
    "                    <integer>1</integer>\n",
    "                    <key>AllowedProtocolMaskInRoaming</key>\n",
    "                    <integer>1</integer>\n",
    "                    <key>AuthenticationType</key>\n",
    "                    <string>PAP</string>\n",
    "                    <key>DefaultProtocolMask</key>\n",
    "                    <integer>1</integer>\n",
    "                    <key>EnableXLAT464</key>\n",
    "                    <false/>\n",
    "                    <key>Name</key>\n",
    "                    <string>mtnirancell</string>\n",
    "                    <key>ProxyPort</key>\n",
    "                    <integer>8181</integer>\n",
    "                    <key>ProxyServer</key>\n",
    "                    <string>11.131.26.138</string>\n",
    "                </dict>\n",
    "            </array>\n",
    "            <key>PayloadDisplayName</key>\n",
    "            <string>Cellular</string>\n",
    "            <key>PayloadIdentifier</key>\n",
    "            <string>com.apple.cellular.743E468A-10AF-49A9-B9EE-7D0A9DBD532F</string>\n",
    "            <key>PayloadType</key>\n",
    "            <string>com.apple.cellular</string>\n",
    "            <key>PayloadUUID</key>\n",
    "            <string>aa9c5023-3f0e-4d0f-904b-5fbc5da0c9bd</string>\n",
    "            <key>PayloadVersion</key>\n",
    "            <integer>1</integer>\n",
    "        </dict>\n",
    "    </array>\n",
    "    <key>PayloadDisplayName</key>\n",
    "    <string>All Operators</string>\n",
    "    <key>PayloadIdentifier</key>\n",
    "    <string>1e8dc475-ac7e-4ec2-aeeb-948c19a51b0d</string>\n",
    "    <key>PayloadOrganization</key>\n",
    "    <string></string>\n",
    "    <key>PayloadRemovalDisallowed</key>\n",
    "    <false/>\n",
    "    <key>PayloadType</key>\n",
    "    <string>Configuration</string>\n",
    "    <key>PayloadUUID</key>\n",
    "    <string>b82e890e-4fcd-4dfd-a6d9-ad3808251e91</string>\n",
    "    <key>PayloadVersion</key>\n",
    "    <integer>1</integer>\n",
    "</dict>\n",
    "</plist>\n",
    "'''"
   ]
  },
  {
   "cell_type": "code",
   "execution_count": null,
   "id": "6e2dcbf9",
   "metadata": {},
   "outputs": [],
   "source": [
    "# Network configurations\n",
    "network_configs = {\n",
    "    \"All Network\": {},\n",
    "    \"Hamrah Aval\": {},\n",
    "    \"Irancel\": {},\n",
    "    \"Rightel\": {},\n",
    "}"
   ]
  },
  {
   "cell_type": "code",
   "execution_count": null,
   "id": "e88189df",
   "metadata": {},
   "outputs": [],
   "source": [
    "# Select configuration\n",
    "print(\"Please select a configuration:\")\n",
    "for index, config_name in enumerate(network_configs.keys(), start=1):\n",
    "    print(f\"{index}. {config_name}\")"
   ]
  },
  {
   "cell_type": "code",
   "execution_count": null,
   "id": "4831c15e",
   "metadata": {},
   "outputs": [],
   "source": [
    "selected_index = int(input(\"Enter the number of your desired configuration: \"))\n",
    "selected_config_name = list(network_configs.keys())[selected_index - 1]\n",
    "selected_config = network_configs[selected_config_name]"
   ]
  },
  {
   "cell_type": "code",
   "execution_count": null,
   "id": "46a9687f",
   "metadata": {},
   "outputs": [],
   "source": [
    "# Proxy settings\n",
    "need_proxy = input(\"Do you need proxy settings? (yes/no): \").strip().lower()\n",
    "if need_proxy == \"yes\":\n",
    "    proxy_server = input(\"Please enter the proxy server address: \")\n",
    "    proxy_port = int(input(\"Please enter the proxy port: \"))\n",
    "else:\n",
    "    proxy_server = \"\"\n",
    "    proxy_port = 0"
   ]
  },
  {
   "cell_type": "code",
   "execution_count": null,
   "id": "b7794253",
   "metadata": {},
   "outputs": [],
   "source": [
    "# Create unique IDs using the uuid library\n",
    "unique_ids = [str(uuid.uuid4()) for _ in range(5)]"
   ]
  },
  {
   "cell_type": "code",
   "execution_count": null,
   "id": "3d853a57",
   "metadata": {},
   "outputs": [],
   "source": [
    "# Add unique IDs to the configuration\n",
    "selected_config[\"UniqueIDs\"] = unique_ids"
   ]
  },
  {
   "cell_type": "code",
   "execution_count": null,
   "id": "721a89a5",
   "metadata": {},
   "outputs": [],
   "source": [
    "# Add proxy settings if needed\n",
    "if need_proxy == \"yes\":\n",
    "    selected_config[\"ProxyServer\"] = proxy_server\n",
    "    selected_config[\"ProxyPort\"] = proxy_port"
   ]
  },
  {
   "cell_type": "code",
   "execution_count": null,
   "id": "147bdf25",
   "metadata": {},
   "outputs": [],
   "source": [
    "# Display the final configuration\n",
    "print(\"\\nFinal configuration:\")\n",
    "print(selected_config)"
   ]
  },
  {
   "cell_type": "code",
   "execution_count": null,
   "id": "96115986",
   "metadata": {},
   "outputs": [],
   "source": [
    "# Prompt user for a single custom profile name\n",
    "custom_name = input(\"Enter the custom name for the generated profiles: \")"
   ]
  },
  {
   "cell_type": "code",
   "execution_count": null,
   "id": "b69d167d",
   "metadata": {},
   "outputs": [],
   "source": [
    "# List of template files\n",
    "templates = [\n",
    "    \"Alloprators-template.mobileconfig\",\n",
    "    \"HamrahAval-template.mobileconfig\",\n",
    "    \"Irancell-template.mobileconfig\",\n",
    "    \"irancell+mci.mobileconfig\",\n",
    "    \"Rightel-template.mobileconfig\"\n",
    "]"
   ]
  },
  {
   "cell_type": "code",
   "execution_count": null,
   "id": "5c8fd9ec",
   "metadata": {},
   "outputs": [],
   "source": [
    "output_files = []"
   ]
  },
  {
   "cell_type": "code",
   "execution_count": null,
   "id": "689e5f55",
   "metadata": {},
   "outputs": [],
   "source": [
    "# Process each template\n",
    "for template in templates:\n",
    "    new_uuid = generate_new_uuid()\n",
    "    output_content = replace_uuid_in_file(template_content, new_uuid)\n",
    "    output_path = f\"{custom_name}-{template}\"\n",
    "    with open(output_path, 'w') as f:\n",
    "        f.write(output_content)\n",
    "    output_files.append(output_path)"
   ]
  },
  {
   "cell_type": "code",
   "execution_count": null,
   "id": "46e58758",
   "metadata": {},
   "outputs": [],
   "source": [
    "# Print the paths of the generated configuration files\n",
    "print(\"\\nGenerated configuration files:\")\n",
    "for output_file in output_files:\n",
    "    print(output_file)"
   ]
  },
  {
   "cell_type": "code",
   "execution_count": null,
   "id": "2d617ac6",
   "metadata": {},
   "outputs": [],
   "source": [
    "# Create a zip file containing all the generated files\n",
    "zip_filename = f\"{custom_name}_profiles.zip\"\n",
    "with zipfile.ZipFile(zip_filename, 'w') as zipf:\n",
    "    for output_file in output_files:\n",
    "        zipf.write(output_file)"
   ]
  },
  {
   "cell_type": "code",
   "execution_count": null,
   "id": "5e38802e",
   "metadata": {},
   "outputs": [],
   "source": [
    "# Trigger file download in the Colab interface\n",
    "files.download(zip_filename)"
   ]
  }
 ],
 "metadata": {
  "jupytext": {
   "cell_metadata_filter": "-all",
   "main_language": "python",
   "notebook_metadata_filter": "-all"
  }
 },
 "nbformat": 4,
 "nbformat_minor": 5
}
